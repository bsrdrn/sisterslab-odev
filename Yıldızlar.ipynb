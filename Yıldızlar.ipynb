{
 "cells": [
  {
   "cell_type": "markdown",
   "metadata": {},
   "source": [
    "Şekilleri oluştururken burada dikkat edilmesi gereken kısım ilk dört şeklin brbirinin döndürülmüş hallerinden oluşmasıdır. O halde kodlama yaparken ufak yer değişiklikleri ile bu şekilleri elde etmek mümkündür.\n",
    "\n",
    "* Değişken isimleri yapılacak işlemlerle alakalı ve okuyucunun anlayacağı şekilde seçilmiştir. Kullanıcıdan alınacak olan bir sayı doğrultusunda satır sayısı belirleneceğinden kullanıcıdan alacak olduğumuz sayı için değişken adı satir_sayisi olarak verilmiştir.\n",
    "\n",
    "* Şekillerde satır sayısı ile doğru ya da ters orantılı olarak yıldız sayısı değiştiğinden for döngüsü içinde suanki_satir olarak belirtilen değişken kullanıcıdan almış olduğu değer doğrultusunda ters ya da dğru orantılı bir şekilde değerleri döndürecektir.\n",
    "\n",
    "* Örneğin 1. ve 3. şekilde satır sayısı ile doğru orantılı şekilde yıldız sayımız arttığı için suanki_satir değerimiz 1 den başlayarak satir_sayisi +1 e kadar gidecek.(Burada başlangıç ve bitiş noktası 0 ve satir_sayisi şeklinde de alınabilirdi ancak o durumda çıktı alırken +1 dememiz gerekirdi.)\n",
    "\n"
   ]
  },
  {
   "cell_type": "code",
   "execution_count": 1,
   "metadata": {},
   "outputs": [
    {
     "name": "stdout",
     "output_type": "stream",
     "text": [
      "*\n",
      "**\n",
      "***\n",
      "****\n",
      "*****\n",
      "******\n"
     ]
    }
   ],
   "source": [
    "\"\"\"\n",
    "\n",
    "Aşağıdaki şekilleri oluşturunuz.\n",
    "\n",
    "*           *****           *       *****           **         **********        *        *\n",
    "**          ****           **        ****          ****         ********         **      **\n",
    "***         ***           ***         ***         ******         ******          ***    ***\n",
    "****        **           ****          **        ********         ****           ****  ****\n",
    "*****       *           *****           *       **********         **            **********\n",
    "\n",
    "\"\"\"\n",
    "\n",
    "satir_sayisi = int(input(\"Bir sayı girin: \"))\n",
    "for suanki_satir in range(1, satir_sayisi+1):\n",
    "   print(suanki_satir* \"*\")\n"
   ]
  },
  {
   "cell_type": "markdown",
   "metadata": {},
   "source": [
    "\"Aşağıdaki şekli oluşturabilmek için suanki_satir değerimiz satir_sayısı değerinden başlayarak sıfıra kadar olan değerleri döndürecektir. Burada diğerinden farklı olarak başlangıç ve bitiş değerlerinin ters dönmesinin sebebi yıldız sayılarının satır sayısına göre azalıyor olmasıdır.\""
   ]
  },
  {
   "cell_type": "code",
   "execution_count": 2,
   "metadata": {},
   "outputs": [
    {
     "name": "stdout",
     "output_type": "stream",
     "text": [
      "******\n",
      "*****\n",
      "****\n",
      "***\n",
      "**\n",
      "*\n"
     ]
    }
   ],
   "source": [
    "for suanki_satir in range(satir_sayisi,0,-1):\n",
    "   print(suanki_satir* \"*\")"
   ]
  },
  {
   "cell_type": "markdown",
   "metadata": {},
   "source": [
    "Aşağıdaki örnekte ise boşlukların olduğunu görmekteyiz. Bu sebeple yeni bir değişken olan bosluk_sayisi değişkenini tanımladık. Boşluk sayısı her satırda kullanıcının vermiş olduğu satır sayısı değerinden bulunduğu satır sayısının değeri kadar eksik olduğundan boşluk sayısı; satır sayısından suanki satır sayısı çıkarılarak bulunmuştur. Yıldız değerleri ilk örnekteki mantığa göre satır sayısı arttığı için arttığından for döngüsünde 1 den başlayarak satır sayısı değeri de dahil olacak şekilde değer aralığı verilmiştir. Diğer örnekte işlem tersi olarak yapılmıştır."
   ]
  },
  {
   "cell_type": "code",
   "execution_count": 3,
   "metadata": {},
   "outputs": [
    {
     "name": "stdout",
     "output_type": "stream",
     "text": [
      "     *\n",
      "    **\n",
      "   ***\n",
      "  ****\n",
      " *****\n",
      "******\n"
     ]
    }
   ],
   "source": [
    "for suanki_satir in range(1,satir_sayisi+1):\n",
    "   bosluk_sayisi = satir_sayisi - suanki_satir\n",
    "   print(bosluk_sayisi * \" \" +  suanki_satir* \"*\")"
   ]
  },
  {
   "cell_type": "code",
   "execution_count": 4,
   "metadata": {},
   "outputs": [
    {
     "name": "stdout",
     "output_type": "stream",
     "text": [
      "******\n",
      " *****\n",
      "  ****\n",
      "   ***\n",
      "    **\n",
      "     *\n"
     ]
    }
   ],
   "source": [
    "for suanki_satir in range(satir_sayisi,0,-1):\n",
    "   bosluk_sayisi = satir_sayisi - suanki_satir\n",
    "   print(bosluk_sayisi*\" \" +  suanki_satir* \"*\")"
   ]
  },
  {
   "cell_type": "markdown",
   "metadata": {},
   "source": [
    "Aşağıdaki örnekte ise yukarıda yapmış olduğumuz 1 ve 3. şeklinin birleşimini görmekteyiz. Bi altındaki örnek ise bu örneğin ters çevrilmiş hali olduğundan for döngüsü içinde belirtilen aralığı ters çevirmemiz şekli elde etmemiz için yeterli olacaktır."
   ]
  },
  {
   "cell_type": "code",
   "execution_count": 5,
   "metadata": {},
   "outputs": [
    {
     "name": "stdout",
     "output_type": "stream",
     "text": [
      "     **\n",
      "    ****\n",
      "   ******\n",
      "  ********\n",
      " **********\n",
      "************\n"
     ]
    }
   ],
   "source": [
    "for suanki_satir in range(1,satir_sayisi+1):\n",
    "   bosluk_sayisi = satir_sayisi - suanki_satir\n",
    "   print(bosluk_sayisi * \" \" +  (suanki_satir*2)* \"*\")"
   ]
  },
  {
   "cell_type": "code",
   "execution_count": 6,
   "metadata": {},
   "outputs": [
    {
     "name": "stdout",
     "output_type": "stream",
     "text": [
      "************\n",
      " **********\n",
      "  ********\n",
      "   ******\n",
      "    ****\n",
      "     **\n"
     ]
    }
   ],
   "source": [
    "for suanki_satir in range(satir_sayisi, 0 , -1):\n",
    "   bosluk_sayisi = satir_sayisi - suanki_satir\n",
    "   print(bosluk_sayisi * \" \" +  (suanki_satir*2)* \"*\")"
   ]
  },
  {
   "cell_type": "markdown",
   "metadata": {},
   "source": [
    "Yukarıda yer alan iki örneğin birleştirilmesiyle aşağıdaki şekli kolaylıkla elde ederiz."
   ]
  },
  {
   "cell_type": "code",
   "execution_count": 7,
   "metadata": {},
   "outputs": [
    {
     "name": "stdout",
     "output_type": "stream",
     "text": [
      "     **\n",
      "    ****\n",
      "   ******\n",
      "  ********\n",
      " **********\n",
      "************\n",
      "************\n",
      " **********\n",
      "  ********\n",
      "   ******\n",
      "    ****\n",
      "     **\n"
     ]
    }
   ],
   "source": [
    "for suanki_satir in range(1,satir_sayisi+1):\n",
    "   bosluk_sayisi = satir_sayisi - suanki_satir\n",
    "   print(bosluk_sayisi * \" \" +  (suanki_satir*2)* \"*\")\n",
    "\n",
    "for suanki_satir in range(satir_sayisi, 0 , -1):\n",
    "   bosluk_sayisi = satir_sayisi - suanki_satir\n",
    "   print(bosluk_sayisi * \" \" +  (suanki_satir*2)* \"*\")"
   ]
  },
  {
   "cell_type": "markdown",
   "metadata": {},
   "source": [
    "Yine aşağıda yer alan iki örnek en başta yapmış olduğumuz üçgenlerin birleşimlerinden oluşmaktadır. Bu örneklerde boşluk sayılarını bulmak için şuanki satır ve satır sayısı değerlerinin iki ile çarpılmasındaki amaç ilk yarısındaki boşluk ile ikinci yarısındaki boşluğun birlikte alınmasıdır. \n",
    "\n",
    "En altta yer alan örnekse yine bu iki örneğin tek bir kodda birleştirilmesi ile elde edilmiştir."
   ]
  },
  {
   "cell_type": "code",
   "execution_count": 11,
   "metadata": {},
   "outputs": [
    {
     "name": "stdout",
     "output_type": "stream",
     "text": [
      "*        *\n",
      "**      **\n",
      "***    ***\n",
      "****  ****\n",
      "**********\n"
     ]
    }
   ],
   "source": [
    "satir_sayisi = int(input(\"Bir sayı girin: \"))\n",
    "for suanki_satir in range(1, satir_sayisi+1):\n",
    "   bosluk_sayisi = 2*satir_sayisi - 2*suanki_satir\n",
    "   print(suanki_satir* \"*\" + bosluk_sayisi * \" \" +  suanki_satir* \"*\")\n",
    "   "
   ]
  },
  {
   "cell_type": "code",
   "execution_count": 9,
   "metadata": {},
   "outputs": [
    {
     "name": "stdout",
     "output_type": "stream",
     "text": [
      "**********\n",
      "****  ****\n",
      "***    ***\n",
      "**      **\n",
      "*        *\n"
     ]
    }
   ],
   "source": [
    "\"\"\"\n",
    "\n",
    "Aşağıdaki şekli oluşturunuz.\n",
    "\n",
    "**********\n",
    "****  ****\n",
    "***    ***\n",
    "**      **\n",
    "*        *\n",
    "\n",
    "\"\"\"\n",
    "\n",
    "satir_sayisi = int(input(\"Bir sayı girin: \"))\n",
    "for suanki_satir in range(satir_sayisi, 0, -1):\n",
    "   bosluk_sayisi = 2*(satir_sayisi - suanki_satir)\n",
    "   print(suanki_satir* \"*\" + bosluk_sayisi * \" \" +  suanki_satir* \"*\")"
   ]
  },
  {
   "cell_type": "code",
   "execution_count": 10,
   "metadata": {},
   "outputs": [
    {
     "name": "stdout",
     "output_type": "stream",
     "text": [
      "**********\n",
      "****  ****\n",
      "***    ***\n",
      "**      **\n",
      "*        *\n",
      "*        *\n",
      "**      **\n",
      "***    ***\n",
      "****  ****\n",
      "**********\n"
     ]
    }
   ],
   "source": [
    "\"\"\"\n",
    "Aşağıdaki şekli oluşturunuz.\n",
    "\n",
    "**********\n",
    "****  ****\n",
    "***    ***\n",
    "**      **\n",
    "*        *\n",
    "*        *\n",
    "**      **\n",
    "***    ***\n",
    "****  ****\n",
    "**********\n",
    "\n",
    "\"\"\"\n",
    "\n",
    "satir_sayisi = int(input(\"Bir sayı girin: \"))\n",
    "for suanki_satir in range(satir_sayisi, 0, -1):\n",
    "   bosluk_sayisi = 2*satir_sayisi - 2*suanki_satir\n",
    "   print(suanki_satir* \"*\" + bosluk_sayisi * \" \" +  suanki_satir* \"*\")\n",
    "\n",
    "for suanki_satir in range(1, satir_sayisi+1):\n",
    "   bosluk_sayisi = 2*satir_sayisi - 2*suanki_satir\n",
    "   print(suanki_satir* \"*\" + bosluk_sayisi * \" \" +  suanki_satir* \"*\")"
   ]
  }
 ],
 "metadata": {
  "kernelspec": {
   "display_name": "Python 3.10.5 32-bit",
   "language": "python",
   "name": "python3"
  },
  "language_info": {
   "codemirror_mode": {
    "name": "ipython",
    "version": 3
   },
   "file_extension": ".py",
   "mimetype": "text/x-python",
   "name": "python",
   "nbconvert_exporter": "python",
   "pygments_lexer": "ipython3",
   "version": "3.10.5"
  },
  "orig_nbformat": 4,
  "vscode": {
   "interpreter": {
    "hash": "3a76228ad2be0688f8ad5f22cd5a5c34eb0a8c6f0341e9e6e30d2b6319109a87"
   }
  }
 },
 "nbformat": 4,
 "nbformat_minor": 2
}
