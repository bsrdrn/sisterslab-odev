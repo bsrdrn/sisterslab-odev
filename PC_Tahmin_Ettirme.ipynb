{
 "cells": [
  {
   "cell_type": "markdown",
   "metadata": {},
   "source": [
    "Sayı Tahmin Oyunu(PC)\n",
    "* Kullanıcı bir sayı tutar.\n",
    "* Tutulan sayıyı bilgisayarın bulması için yol gösterilir."
   ]
  },
  {
   "cell_type": "code",
   "execution_count": null,
   "metadata": {
    "vscode": {
     "languageId": "plaintext"
    }
   },
   "outputs": [],
   "source": [
    "import random \n",
    "\n",
    "def computer_guess(x):\n",
    "    start = 1\n",
    "    end = 100\n",
    "    result = \"\"\n",
    "    while result != \"d\":\n",
    "        guess = random.randint(start,end)\n",
    "\n",
    "        result = input(f\"{guess} değeri aklından tuttuğun değerden büyükse (b) küçükse (k) değer doğruysa (d) giriniz.\",)\n",
    "        if result == \"b\":\n",
    "            end = guess - 1 \n",
    "        elif result == \"k\":\n",
    "            start = guess + 1 \n",
    "    print(\"Tebrikler, doğru tahmin\")\n",
    "\n",
    "computer_guess(32)"
   ]
  },
  {
   "cell_type": "markdown",
   "metadata": {},
   "source": [
    "1-100 arasında bir sayı seçiyoruz ve bilgisayrın bunu tahmin etmesini istiyoruz. Bilgisayarın ilk tahmin değeri random bir değer olacağı için ilk önce random kütüphanesi import edilir.\n",
    "\n",
    "Bilgisayara tahminini 1-100 arasından random olarak seçmesini söyleriz ve tahmini bizim seçmiş olduğumuz sayıdan küçükse \"k\", büyükse \"b\", doğru ise \"Tebrikler doğru tahmin\" yazdırırız.\n",
    "\n",
    "Karar yapısı içinde bilgisayara seçtiğin sayı benim tuttuğum sayıdan küçük dedikten sonra artık bilgisayarın söyleyebileceği en küçük değer yapmış olduğu tahminden bir fazlası olacaktır.\n",
    "\n",
    "Aynı şekilde eğer bilgisayarın tahmini bizim seçmiş olduğumuz sayıdan büyükse bilgisayarın maksimum tahmini, önceki tahmininden bir eksik olacaktır."
   ]
  }
 ],
 "metadata": {
  "language_info": {
   "name": "python"
  },
  "orig_nbformat": 4
 },
 "nbformat": 4,
 "nbformat_minor": 2
}
