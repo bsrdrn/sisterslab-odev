{
 "cells": [
  {
   "cell_type": "markdown",
   "metadata": {},
   "source": [
    "Sayı Tahmin Oyunu\n",
    "* Random modülü ile bir sayı alınır\n",
    "* tahmin adında bir fonksiyon yazılacak\n",
    "* input ile kullanıcıdan tahminde bulunması istenip ardından yönlendirmeler yapılacak.\n",
    "\n",
    "Aşağıdaki oyunda bilgisayar aklından bir sayı tutuyor ve kullanıcı o sayıyı bulmak üzere değerler giriyor."
   ]
  },
  {
   "cell_type": "code",
   "execution_count": null,
   "metadata": {
    "vscode": {
     "languageId": "plaintext"
    }
   },
   "outputs": [],
   "source": [
    "from random import randint\n",
    "\n",
    "def tahmin (sayi):\n",
    "    kullanıcı_tahmini = int(input(\"Sayı tahmin oyunu için 1-100 arasında bir tahminde bulun: \"))\n",
    "    while sayi != kullanıcı_tahmini:\n",
    "       if sayi < kullanıcı_tahmini:\n",
    "          print(\"Üzgünüm, daha küçük bir tahminde bulunmalısın.\")\n",
    "       else:\n",
    "          print(\"Üzgünüm, daha büyük bir tahminde bulunmalısın.\")\n",
    "       kullanıcı_tahmini = int(input(\"Lütfen yeniden bir tahminde bulunun.\"))\n",
    "    else:\n",
    "        print(\"Tebrikler, doğru tahmin!\")\n",
    "\n",
    "tahmin(randint(1,100))"
   ]
  },
  {
   "cell_type": "markdown",
   "metadata": {},
   "source": [
    "Burada dikkat edilmesi gerekenler;\n",
    "\n",
    "* Öncelikle sayı rastagele seçileceği için random kütüphanesi import edilir.\n",
    "\n",
    "* Daha sonra def ile bir fonksiyon tanımlanır. Tanımlanan fonksiyon parametreli olacağı için parametre parantezler arasına yazılır.\n",
    "\n",
    "* Kullanıcıda girilen sayıyı tahmin etmesi isteneceği için kullanıcıdan sayı alınır.\n",
    "\n",
    "* Döngü değer doğru olduğu müddetçe çalışacağı için while döngüsü kullanılır ve karar yapısı kullanılarak kullanıcının doğru değeri tahmin etmesi sağlanır."
   ]
  },
  {
   "cell_type": "markdown",
   "metadata": {},
   "source": [
    "----"
   ]
  },
  {
   "cell_type": "markdown",
   "metadata": {},
   "source": [
    "Sayı Tahmin Oyunu(PC)\n",
    "* Kullanıcı bir sayı tutar.\n",
    "* Tutulan sayıyı bilgisayarın bulması için yol gösterilir."
   ]
  },
  {
   "cell_type": "code",
   "execution_count": null,
   "metadata": {
    "vscode": {
     "languageId": "plaintext"
    }
   },
   "outputs": [],
   "source": [
    "import random \n",
    "\n",
    "def computer_guess(x):\n",
    "    start = 1\n",
    "    end = 100\n",
    "    result = \"\"\n",
    "    while result != \"d\":\n",
    "        guess = random.randint(start,end)\n",
    "\n",
    "        result = input(f\"{guess} değeri aklından tuttuğun değerden büyükse (b) küçükse (k) değer doğruysa (d) giriniz.\",)\n",
    "        if result == \"b\":\n",
    "            end = guess - 1 \n",
    "        elif result == \"k\":\n",
    "            start = guess + 1 \n",
    "    print(\"Tebrikler, doğru tahmin\")\n",
    "\n",
    "computer_guess(32)"
   ]
  },
  {
   "cell_type": "markdown",
   "metadata": {},
   "source": [
    "1-100 arasında bir sayı seçiyoruz ve bilgisayrın bunu tahmin etmesini istiyoruz. Bilgisayarın ilk tahmin değeri random bir değer olacağı için ilk önce random kütüphanesi import edilir.\n",
    "\n",
    "Bilgisayara tahminini 1-100 arasından random olarak seçmesini söyleriz ve tahmini bizim seçmiş olduğumuz sayıdan küçükse \"k\", büyükse \"b\", doğru ise \"Tebrikler doğru tahmin\" yazdırırız.\n",
    "\n",
    "Karar yapısı içinde bilgisayara seçtiğin sayı benim tuttuğum sayıdan küçük dedikten sonra artık bilgisayarın söyleyebileceği en küçük değer yapmış olduğu tahminden bir fazlası olacaktır.\n",
    "\n",
    "Aynı şekilde eğer bilgisayarın tahmini bizim seçmiş olduğumuz sayıdan büyükse bilgisayarın maksimum tahmini, önceki tahmininden bir eksik olacaktır."
   ]
  },
  {
   "cell_type": "markdown",
   "metadata": {},
   "source": [
    "----"
   ]
  },
  {
   "cell_type": "markdown",
   "metadata": {},
   "source": [
    "**Taş, Kağıt, Makas Oyunu**\n",
    "\n",
    "Oyunda bilinmesi gereken temel kurallar;\n",
    "\n",
    "* Kağıt taşı yener\n",
    "* Taş makası yener\n",
    "* Makas kağıdı yener "
   ]
  },
  {
   "cell_type": "code",
   "execution_count": null,
   "metadata": {
    "vscode": {
     "languageId": "plaintext"
    }
   },
   "outputs": [],
   "source": [
    "import random\n",
    "player_score = computer_score = 0\n",
    "def print_result(comp_choice, winner):\n",
    "    print(f\"Bilgisayarın Seçimi: {comp_choice}\\n\\nKazanan: {winner}\")\n",
    "print(\"Taş Kağıt Makas Oyununa Hoş geldiniz!\\n\" + \"-\"*37)\n",
    "while True:\n",
    "    print(\"\\n1 - Taş\\n2 - Kağıt \\n3 - Makas\\nOyundan çıkmak isterseniz bu değerler dışında bir değer giriniz\")\n",
    "    player_choice = int(input(\"Seçiminizi yapınız\"))\n",
    "    computer_choice = random.choice([1, 2, 3])\n",
    "    if player_choice == computer_choice:\n",
    "        print(\"Beraber, yeniden oynayınız\")\n",
    "    elif player_choice == 1:\n",
    "        if computer_choice == 2:\n",
    "            print_result(computer_choice, \"Bilgisayar\")\n",
    "            computer_score += 100\n",
    "        elif computer_choice == 3:\n",
    "            print_result(computer_choice, \"Kullanıcı\")\n",
    "            player_score += 100\n",
    "    elif player_choice == 2:\n",
    "        if computer_choice == 1:\n",
    "            print_result(computer_choice, \"Kullanıcı\")\n",
    "            player_score += 100\n",
    "        elif computer_choice == 3:\n",
    "            print_result(computer_choice, \"Bilgisayar\")\n",
    "            computer_score += 100\n",
    "    elif player_choice == 3:\n",
    "        if computer_choice == 1:\n",
    "            print_result(computer_choice, \"Bilgisayar\")\n",
    "            computer_score += 100\n",
    "        elif computer_choice == 2:\n",
    "            print_result(computer_choice, \"Kullanıcı\")\n",
    "            player_score += 100\n",
    "    else:\n",
    "        break\n",
    "print(f\"\\n\\nKullanıcı skoru {player_score} - Bilgisayarın skoru {computer_score}\")\n"
   ]
  },
  {
   "cell_type": "markdown",
   "metadata": {},
   "source": [
    "Taş, kağıt, makas oyununu yazdırmak için dikkat edilmesi gerekenler;\n",
    "* Oyun kullanıcı ile bilgisayar arasında oynanacak olup bilgisayarın seçimi random olacağından öncelikle random kütüphanesi import edilir. \n",
    "* Oyunda kazananın skorunu görmek istediğimiz için başlangıçta her iki oyuncunun skoru da 0 olarak verilir.\n",
    "* Ardından fonksiyon tanımlama ile sonucu yazdırması için bir fonksiyon tanımlanır. Bu fonksiyon parametreli olup parametreleri bilgisayarın seçimi ve kazanan şeklindedir. Bu sayede ekrana yazdırmak istediğimizde kullanıcı kendi seçimine karşılık bilgisayarın yaptığı seçimi görür.\n",
    "* Oyun için taş, kağıt, makas şeklinde 3 seçenek plup bunların sayısal değerleri sırası ile 1, 2 ve 3 şeklindedir. Kullanıcı farklı bir değer girdiğinde oyun bitirilir. \n",
    "* Oyun istenilen değerler girilip şartlar sağlandığı sürece devam edeceğinden while döngüsü kullanılır.\n",
    "* Daha sonra sırasıyla karar yapıları yazılır. \n"
   ]
  },
  {
   "cell_type": "code",
   "execution_count": null,
   "metadata": {
    "vscode": {
     "languageId": "plaintext"
    }
   },
   "outputs": [],
   "source": [
    "import random\n",
    "player_score = computer_score =computer_choice = 0\n",
    "\n",
    "def print_result(winner = \"Bilgisayar\"):\n",
    "    print(f\"Bilgisayarın Seçimi: {computer_choice}\\n\\nKazanan: {winner}\")\n",
    "\n",
    "    global player_score, computer_score\n",
    "    if winner == \"Bilgisayar\":\n",
    "        computer_score += 100\n",
    "    else:\n",
    "        player_score += 100\n",
    "print(\"Taş Kağıt Makas Oyununa Hoş geldiniz!\\n\" + \"-\"*37)\n",
    "while True:\n",
    "    print(\"\\n1 - Taş\\n2 - Kağıt \\n3 - Makas\\nOyundan çıkmak isterseniz bu değerler dışında bir değer giriniz\")\n",
    "    player_choice = int(input(\"Seçiminizi yapınız\"))\n",
    "    computer_choice = random.choice([1, 2, 3])\n",
    "    if player_choice == computer_choice:\n",
    "        print(\"Beraber, yeniden oynayınız\")\n",
    "    elif player_choice == 1:\n",
    "        if computer_choice == 2:\n",
    "            print_result()\n",
    "        elif computer_choice == 3:\n",
    "            print_result(\"Kullanıcı\")\n",
    "    elif player_choice == 2:\n",
    "        if computer_choice == 1:\n",
    "            print_result(\"Kullanıcı\")\n",
    "        elif computer_choice == 3:\n",
    "            print_result()\n",
    "    elif player_choice == 3:\n",
    "        if computer_choice == 1:\n",
    "            print_result()\n",
    "        elif computer_choice == 2:\n",
    "            print_result(\"Kullanıcı\")\n",
    "    else:\n",
    "        break\n",
    "print(f\"\\n\\nKullanıcı skoru {player_score} - Bilgisayarın skoru {computer_score}\")\n",
    "if player_score > computer_score: print(\"Kazanan Kullanıcı\")\n",
    "elif player_score < computer_score: print(\"Kazanan Bilgisayar\")\n",
    "else: print(\"Oyun Berabere\")"
   ]
  },
  {
   "cell_type": "markdown",
   "metadata": {},
   "source": [
    "Bir önceki koddan farklı olarak aynı oyunun daha sade bir yazımla yapılabildiğini görmekteyiz. Sürekli tekrar halinde olan ifadelerin tekrar tekrar yazımını önlemek için tekrar edilen kısımlar silindi ve daha anlaşılır bir kod elde edildi."
   ]
  }
 ],
 "metadata": {
  "language_info": {
   "name": "python"
  },
  "orig_nbformat": 4
 },
 "nbformat": 4,
 "nbformat_minor": 2
}
