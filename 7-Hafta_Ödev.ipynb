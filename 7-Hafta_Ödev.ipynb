{
 "cells": [
  {
   "cell_type": "markdown",
   "metadata": {},
   "source": [
    "1.Soru: 0dan 100e kadar karışık sırada sayıları tutan bir listenizin olduğunu düşünün. Bu liste içerisinde n tane sayı eksik. n ve eksik sayıları bulunuz.\n",
    "\n",
    "Örnek: my_list = [0, 7, 5, 8, 2] -> 0-10 arasında\n",
    "\n",
    "6 adet sayı eksiktir. Eksik olan sayılar [1, 3, 4, 6, 9, 10]"
   ]
  },
  {
   "cell_type": "code",
   "execution_count": 81,
   "metadata": {},
   "outputs": [
    {
     "name": "stdout",
     "output_type": "stream",
     "text": [
      "[90, 91, 92, 93, 94, 95, 96, 97, 98, 99, 100]\n"
     ]
    }
   ],
   "source": [
    "my_list = [i for i in range(0, 90)]\n",
    "\n",
    "my_list1 = [i for i in range(0,101)]\n",
    "\n",
    "fark_listesi=[ ]\n",
    "\n",
    "for i in range(my_list[0], my_list1[-1]+1):\n",
    "    if i not in my_list:\n",
    "        fark_listesi.append(i)\n",
    "        \n",
    "print(fark_listesi)\n",
    "\n"
   ]
  },
  {
   "cell_type": "code",
   "execution_count": 89,
   "metadata": {},
   "outputs": [
    {
     "name": "stdout",
     "output_type": "stream",
     "text": [
      "Eksik sayı adedi :  38\n",
      "\n",
      "Eksik sayı listesi:  [0, 2, 3, 4, 6, 7, 10, 12, 20, 22, 26, 33, 35, 38, 45, 46, 50, 51, 53, 55, 56, 58, 60, 64, 65, 67, 69, 73, 75, 78, 80, 82, 83, 85, 88, 93, 94, 97]\n"
     ]
    }
   ],
   "source": [
    "my_list = []\n",
    "for i in range(0,100):\n",
    "  my_list.append(random.randint(1,100))\n",
    "\n",
    "\n",
    "fark_listesi=[ ]\n",
    "\n",
    "for i in range(0,100):\n",
    "    if i not in my_list:\n",
    "        fark_listesi.append(i)\n",
    "\n",
    "\n",
    "\n",
    "print(\"Eksik sayı adedi : \", len(fark_listesi))\n",
    "print()\n",
    "print(\"Eksik sayı listesi: \", fark_listesi)\n"
   ]
  }
 ],
 "metadata": {
  "kernelspec": {
   "display_name": "Python 3.10.5 32-bit",
   "language": "python",
   "name": "python3"
  },
  "language_info": {
   "codemirror_mode": {
    "name": "ipython",
    "version": 3
   },
   "file_extension": ".py",
   "mimetype": "text/x-python",
   "name": "python",
   "nbconvert_exporter": "python",
   "pygments_lexer": "ipython3",
   "version": "3.10.5"
  },
  "orig_nbformat": 4,
  "vscode": {
   "interpreter": {
    "hash": "3a76228ad2be0688f8ad5f22cd5a5c34eb0a8c6f0341e9e6e30d2b6319109a87"
   }
  }
 },
 "nbformat": 4,
 "nbformat_minor": 2
}
