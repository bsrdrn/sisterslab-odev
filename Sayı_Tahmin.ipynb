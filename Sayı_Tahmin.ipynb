{
 "cells": [
  {
   "cell_type": "markdown",
   "metadata": {},
   "source": [
    "Sayı Tahmin Oyunu\n",
    "* Random modülü ile bir sayı alınır\n",
    "* tahmin adında bir fonksiyon yazılacak\n",
    "* input ile kullanıcıdan tahminde bulunması istenip ardından yönlendirmeler yapılacak.\n",
    "\n",
    "Aşağıdaki oyunda bilgisayar aklından bir sayı tutuyor ve kullanıcı o sayıyı bulmak üzere değerler giriyor."
   ]
  },
  {
   "cell_type": "code",
   "execution_count": null,
   "metadata": {
    "vscode": {
     "languageId": "plaintext"
    }
   },
   "outputs": [],
   "source": [
    "from random import randint\n",
    "\n",
    "def guess(number):\n",
    "    user_number = int(input(\"Sayı tahmin oyunu için 1-100 arasında bir tahminde bulun\"))\n",
    "    while number != user_number:\n",
    "        if number < user_number:\n",
    "            print(\"üzgünüm, daha küçük bir tahminde bulunmalısın.\")\n",
    "        else:\n",
    "            print(\"Üzgünüm, daha büyük bir tahminde bulunmalısın\")\n",
    "        user_number = int(input(\"Lütfen, yeniden bir tahminde bulunun!\"))\n",
    "    else:\n",
    "        print(\"Tebrikler, doğru tahmin!\")\n",
    "\n",
    "guess(randint(1, 100))"
   ]
  },
  {
   "cell_type": "markdown",
   "metadata": {},
   "source": [
    "Burada dikkat edilmesi gerekenler;\n",
    "\n",
    "* Öncelikle sayı rastagele seçileceği için random kütüphanesi import edilir.\n",
    "\n",
    "* Daha sonra def ile bir fonksiyon tanımlanır. Tanımlanan fonksiyon parametreli olacağı için parametre parantezler arasına yazılır.\n",
    "\n",
    "* Kullanıcıda girilen sayıyı tahmin etmesi isteneceği için kullanıcıdan sayı alınır.\n",
    "\n",
    "* Döngü değer doğru olduğu müddetçe çalışacağı için while döngüsü kullanılır ve karar yapısı kullanılarak kullanıcının doğru değeri tahmin etmesi sağlanır."
   ]
  }
 ],
 "metadata": {
  "language_info": {
   "name": "python"
  },
  "orig_nbformat": 4
 },
 "nbformat": 4,
 "nbformat_minor": 2
}
